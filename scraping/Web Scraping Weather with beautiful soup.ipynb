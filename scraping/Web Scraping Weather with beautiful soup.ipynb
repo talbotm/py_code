{
 "cells": [
  {
   "cell_type": "markdown",
   "metadata": {},
   "source": [
    "<h1>Web Scraping Weather with beautiful soup</h1>\n",
    "\n",
    "- I use beautifulsoup to scrap a weather site\n",
    "- I extract the 7 day forcast and save it to a csv file"
   ]
  },
  {
   "cell_type": "code",
   "execution_count": 1,
   "metadata": {},
   "outputs": [],
   "source": [
    "import sqlalchemy as db\n",
    "#from google.cloud import bigquery\n",
    "from bs4 import BeautifulSoup\n",
    "import requests\n",
    "import datetime\n",
    "import pandas as pd\n",
    "import os.path"
   ]
  },
  {
   "cell_type": "code",
   "execution_count": 2,
   "metadata": {},
   "outputs": [],
   "source": [
    "url_14_days = \"https://www.meteomedia.com/ca/tendance-meteo-14-jours/quebec/montreal\"\n",
    "url_env_can = 'https://weather.gc.ca/city/pages/qc-147_metric_e.html'\n",
    "page_response = requests.get(url_env_can, timeout = 5)\n",
    "#print(page_response.status_code)\n",
    "soup = BeautifulSoup(page_response.content, \"html.parser\")"
   ]
  },
  {
   "cell_type": "code",
   "execution_count": 10,
   "metadata": {},
   "outputs": [],
   "source": [
    "# week forecast\n",
    "columns = ['weekday', 'date', 'month', 'max_temp', 'max_sky', 'min_temp', 'min_sky']\n",
    "wd = {0: 'Monday', 1: 'Tuesday', 2: 'Wednesday', 3: 'Thursday', 4: 'Friday', 5: 'Saturday', 6: 'Sunday'}\n",
    "mnth = {1: 'Janvier', 2: 'February', 3: 'March', 4: 'April', 5: 'May', 6: 'June', 7: 'July', 8: 'August', \\\n",
    "        9: 'Septembrer', 10: 'October', 11: 'November', 12: 'Decembre'}\n",
    "now_ = datetime.datetime.now()\n",
    "date = []\n",
    "min_c = []\n",
    "max_c = []\n",
    "meteo = []\n",
    "mn = soup.find_all(\"div\", {\"class\":\"div-row div-row4 div-row-data\"})\n",
    "mx = soup.find_all(\"div\", {\"class\":\"div-row div-row2 div-row-data\"})\n",
    "dts = list(soup.find_all(\"div\", {\"class\":\"div-row div-row3 div-row-head\"}))\n",
    "#print(dts)\n",
    "\n",
    "for i in range(len(dts)):\n",
    "    if i > 0 : \n",
    "        dt = dts[i].get(\"title\").split()\n",
    "        date.append([dt[0], dt[2], dt[3]])\n",
    "    else:\n",
    "        date.append([wd[now_.weekday()], now_.day, mnth[now_.month]])\n",
    "    #print('min', i,(mn[i].text))\n",
    "    #print('max', i,(mx)[i].text)\n",
    "    min_c.append((mn[i].text))\n",
    "    max_c.append((mx[i].text))\n",
    "\n",
    "for i in range(len(dts)):\n",
    "    meteo.append([date[i][0], \n",
    "                  date[i][1], \n",
    "                  date[i][2].replace('\\n', ' '), \n",
    "                  max_c[i][1:max_c[0].find(\"°C\")].replace('\\n', ' '), \n",
    "                  max_c[i][max_c[0].find(\"°F\")+4:-1].replace('\\n', ' '), \n",
    "                  min_c[i][1:min_c[0].find(\"°C\")].replace('\\n', ' '),\n",
    "                  min_c[i][min_c[0].find(\"°F\")+4:-1].replace('\\n', ' ')])\n",
    "\n",
    "    \n",
    "# write to a csv file\n",
    "df = pd.DataFrame(meteo, columns = columns) \n",
    "fname = \"weather_beta.csv\"\n",
    "file_exists = os.path.isfile(fname)\n",
    "with open(fname, 'a') as f:\n",
    "    if file_exists:\n",
    "        df.to_csv(f, header=False);\n",
    "    else:\n",
    "        df.to_csv(f, header=True, columns = columns);\n",
    "    "
   ]
  }
 ],
 "metadata": {
  "kernelspec": {
   "display_name": "Python 3",
   "language": "python",
   "name": "python3"
  },
  "language_info": {
   "codemirror_mode": {
    "name": "ipython",
    "version": 3
   },
   "file_extension": ".py",
   "mimetype": "text/x-python",
   "name": "python",
   "nbconvert_exporter": "python",
   "pygments_lexer": "ipython3",
   "version": "3.6.6"
  }
 },
 "nbformat": 4,
 "nbformat_minor": 2
}
